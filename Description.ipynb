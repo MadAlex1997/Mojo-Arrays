{
 "cells": [
  {
   "cell_type": "markdown",
   "id": "2367e4b7-4b57-4bf4-9c09-291fa68a1632",
   "metadata": {},
   "source": [
    "# Mojo NDArray Examples "
   ]
  },
  {
   "cell_type": "code",
   "execution_count": 1,
   "id": "1089ec50-8282-4c95-8b30-109b4ba7205b",
   "metadata": {},
   "outputs": [],
   "source": [
    "from NDArray.Ops import ndarray\n",
    "from DType import DType\n",
    "from TargetInfo import simdwidthof"
   ]
  },
  {
   "cell_type": "code",
   "execution_count": 2,
   "id": "8afaa929-e5e6-46c3-8331-f1ea3b13d6b8",
   "metadata": {},
   "outputs": [],
   "source": [
    "alias f32nelts = simdwidthof[DType.float32]()\n",
    "alias f64nelts = simdwidthof[DType.float64]()\n",
    "\n",
    "alias F32ndarray = ndarray[DType.float32, f32nelts]\n",
    "alias F64ndarray = ndarray[DType.float64, f64nelts]\n",
    "\n",
    "let f32array: F32ndarray \n",
    "let f64array: F64ndarray "
   ]
  },
  {
   "cell_type": "code",
   "execution_count": 3,
   "id": "7f46033f-7aa5-4e71-8f3c-26f0331ebbcb",
   "metadata": {},
   "outputs": [],
   "source": [
    "let z10x10 = f32array.create.zeros(10,10)"
   ]
  },
  {
   "cell_type": "code",
   "execution_count": 4,
   "id": "20731e25-ccbc-4617-92aa-bb07294b87c5",
   "metadata": {},
   "outputs": [
    {
     "name": "stdout",
     "output_type": "stream",
     "text": [
      "[ 0.0, 0.0, 0.0, 0.0, 0.0, 0.0, 0.0, 0.0, 0.0, 0.0]\n",
      "[ 0.0, 0.0, 0.0, 0.0, 0.0, 0.0, 0.0, 0.0, 0.0, 0.0]\n",
      "[ 0.0, 0.0, 0.0, 0.0, 0.0, 0.0, 0.0, 0.0, 0.0, 0.0]\n",
      "[ 0.0, 0.0, 0.0, 0.0, 0.0, 0.0, 0.0, 0.0, 0.0, 0.0]\n",
      "[ 0.0, 0.0, 0.0, 0.0, 0.0, 0.0, 0.0, 0.0, 0.0, 0.0]\n",
      "[ 0.0, 0.0, 0.0, 0.0, 0.0, 0.0, 0.0, 0.0, 0.0, 0.0]\n",
      "[ 0.0, 0.0, 0.0, 0.0, 0.0, 0.0, 0.0, 0.0, 0.0, 0.0]\n",
      "[ 0.0, 0.0, 0.0, 0.0, 0.0, 0.0, 0.0, 0.0, 0.0, 0.0]\n",
      "[ 0.0, 0.0, 0.0, 0.0, 0.0, 0.0, 0.0, 0.0, 0.0, 0.0]\n",
      "[ 0.0, 0.0, 0.0, 0.0, 0.0, 0.0, 0.0, 0.0, 0.0, 0.0]\n"
     ]
    }
   ],
   "source": [
    "z10x10.arr_print()"
   ]
  },
  {
   "cell_type": "code",
   "execution_count": 5,
   "id": "9f7cdd82-f14e-49ed-bf25-bc82851db3e0",
   "metadata": {},
   "outputs": [],
   "source": [
    "let eye10x10 = f32array.create.eye(10)"
   ]
  },
  {
   "cell_type": "code",
   "execution_count": 6,
   "id": "3510f1d4-1431-439e-b4cd-d6cbb8f5da38",
   "metadata": {},
   "outputs": [
    {
     "name": "stdout",
     "output_type": "stream",
     "text": [
      "[ 1.0, 0.0, 0.0, 0.0, 0.0, 0.0, 0.0, 0.0, 0.0, 0.0]\n",
      "[ 0.0, 1.0, 0.0, 0.0, 0.0, 0.0, 0.0, 0.0, 0.0, 0.0]\n",
      "[ 0.0, 0.0, 1.0, 0.0, 0.0, 0.0, 0.0, 0.0, 0.0, 0.0]\n",
      "[ 0.0, 0.0, 0.0, 1.0, 0.0, 0.0, 0.0, 0.0, 0.0, 0.0]\n",
      "[ 0.0, 0.0, 0.0, 0.0, 1.0, 0.0, 0.0, 0.0, 0.0, 0.0]\n",
      "[ 0.0, 0.0, 0.0, 0.0, 0.0, 1.0, 0.0, 0.0, 0.0, 0.0]\n",
      "[ 0.0, 0.0, 0.0, 0.0, 0.0, 0.0, 1.0, 0.0, 0.0, 0.0]\n",
      "[ 0.0, 0.0, 0.0, 0.0, 0.0, 0.0, 0.0, 1.0, 0.0, 0.0]\n",
      "[ 0.0, 0.0, 0.0, 0.0, 0.0, 0.0, 0.0, 0.0, 1.0, 0.0]\n",
      "[ 0.0, 0.0, 0.0, 0.0, 0.0, 0.0, 0.0, 0.0, 0.0, 1.0]\n"
     ]
    }
   ],
   "source": [
    "eye10x10.arr_print()"
   ]
  },
  {
   "cell_type": "markdown",
   "id": "bc0b3737-62a4-45cf-9473-2a9251478e69",
   "metadata": {},
   "source": [
    "## Slices can be used as indexes"
   ]
  },
  {
   "cell_type": "code",
   "execution_count": 7,
   "id": "fef82b1b-b77e-49ce-96ba-878e6e84ebc8",
   "metadata": {},
   "outputs": [],
   "source": [
    "let diag5 = eye10x10[0:5,0:5]"
   ]
  },
  {
   "cell_type": "code",
   "execution_count": 13,
   "id": "94edfaff-427e-497c-9184-ac356668d9a8",
   "metadata": {},
   "outputs": [
    {
     "name": "stdout",
     "output_type": "stream",
     "text": [
      "[ 5.0, 0.0, 0.0, 0.0, 0.0]\n",
      "[ 0.0, 5.0, 0.0, 0.0, 0.0]\n",
      "[ 0.0, 0.0, 5.0, 0.0, 0.0]\n",
      "[ 0.0, 0.0, 0.0, 5.0, 0.0]\n",
      "[ 0.0, 0.0, 0.0, 0.0, 5.0]\n"
     ]
    }
   ],
   "source": [
    "diag5.arr_print()"
   ]
  },
  {
   "cell_type": "markdown",
   "id": "cb80f567-d067-49e3-8ae9-84044cafebde",
   "metadata": {},
   "source": [
    "## Basic inplace math is implemented"
   ]
  },
  {
   "cell_type": "code",
   "execution_count": 9,
   "id": "e859e427-2e49-4b25-9ba2-fea328a36f0c",
   "metadata": {},
   "outputs": [],
   "source": [
    "diag5*=5"
   ]
  },
  {
   "cell_type": "code",
   "execution_count": 10,
   "id": "428fe01d-d9ed-4ecb-8c2d-271c1988ab25",
   "metadata": {},
   "outputs": [
    {
     "name": "stdout",
     "output_type": "stream",
     "text": [
      "[ 5.0, 0.0, 0.0, 0.0, 0.0]\n",
      "[ 0.0, 5.0, 0.0, 0.0, 0.0]\n",
      "[ 0.0, 0.0, 5.0, 0.0, 0.0]\n",
      "[ 0.0, 0.0, 0.0, 5.0, 0.0]\n",
      "[ 0.0, 0.0, 0.0, 0.0, 5.0]\n"
     ]
    }
   ],
   "source": [
    "diag5.arr_print()"
   ]
  },
  {
   "cell_type": "code",
   "execution_count": 11,
   "id": "8a63d5f8-62f4-4f7d-9687-3e7222d1990d",
   "metadata": {},
   "outputs": [
    {
     "name": "stdout",
     "output_type": "stream",
     "text": [
      "[ 4.0, 4.0, 4.0, 4.0, 4.0, 4.0, 4.0, 4.0, 4.0, 4.0]\n",
      "[ 4.0, 4.0, 4.0, 4.0, 4.0, 4.0, 4.0, 4.0, 4.0, 4.0]\n",
      "[ 4.0, 4.0, 4.0, 4.0, 4.0, 4.0, 4.0, 4.0, 4.0, 4.0]\n",
      "[ 4.0, 4.0, 4.0, 4.0, 4.0, 4.0, 4.0, 4.0, 4.0, 4.0]\n",
      "[ 4.0, 4.0, 4.0, 4.0, 4.0, 4.0, 4.0, 4.0, 4.0, 4.0]\n",
      "[ 4.0, 4.0, 4.0, 4.0, 4.0, 4.0, 4.0, 4.0, 4.0, 4.0]\n",
      "[ 4.0, 4.0, 4.0, 4.0, 4.0, 4.0, 4.0, 4.0, 4.0, 4.0]\n",
      "[ 4.0, 4.0, 4.0, 4.0, 4.0, 4.0, 4.0, 4.0, 4.0, 4.0]\n",
      "[ 4.0, 4.0, 4.0, 4.0, 4.0, 4.0, 4.0, 4.0, 4.0, 4.0]\n",
      "[ 4.0, 4.0, 4.0, 4.0, 4.0, 4.0, 4.0, 4.0, 4.0, 4.0]\n"
     ]
    }
   ],
   "source": [
    "z10x10+=24\n",
    "z10x10/=6\n",
    "z10x10.arr_print()"
   ]
  },
  {
   "cell_type": "markdown",
   "id": "401b6a56-5160-48c8-a568-e7994910b4de",
   "metadata": {},
   "source": [
    "## This also works for slices"
   ]
  },
  {
   "cell_type": "code",
   "execution_count": 12,
   "id": "b1dd9b2e-41e2-41d7-9a98-83317c297cc3",
   "metadata": {},
   "outputs": [
    {
     "name": "stdout",
     "output_type": "stream",
     "text": [
      "[ 4.0, 4.0, 4.0, 4.0, 4.0, 4.0, 4.0, 4.0, 4.0, 4.0]\n",
      "[ 4.0, 4.0, 4.0, 4.0, 4.0, 4.0, 4.0, 4.0, 4.0, 4.0]\n",
      "[ 4.0, 4.0, 4.0, 4.0, 4.0, 4.0, 4.0, 4.0, 4.0, 4.0]\n",
      "[ 4.0, 4.0, 4.0, 4.0, 4.0, 4.0, 4.0, 4.0, 4.0, 4.0]\n",
      "[ 4.0, 4.0, 4.0, 4.0, 0.0, 0.0, 4.0, 4.0, 4.0, 4.0]\n",
      "[ 4.0, 4.0, 4.0, 4.0, 0.0, 0.0, 4.0, 4.0, 4.0, 4.0]\n",
      "[ 4.0, 4.0, 4.0, 4.0, 4.0, 4.0, 4.0, 4.0, 4.0, 4.0]\n",
      "[ 4.0, 4.0, 4.0, 4.0, 4.0, 4.0, 4.0, 4.0, 4.0, 4.0]\n",
      "[ 4.0, 4.0, 4.0, 4.0, 4.0, 4.0, 4.0, 4.0, 4.0, 4.0]\n",
      "[ 4.0, 4.0, 4.0, 4.0, 4.0, 4.0, 4.0, 4.0, 4.0, 4.0]\n"
     ]
    }
   ],
   "source": [
    "z10x10[4:6,4:6]-=4\n",
    "z10x10.arr_print()"
   ]
  },
  {
   "cell_type": "markdown",
   "id": "160484de-3bae-480b-8901-eef2b5fe3aef",
   "metadata": {},
   "source": [
    "## There is also an arange equivelent"
   ]
  },
  {
   "cell_type": "code",
   "execution_count": 25,
   "id": "1e291609-8736-4cf5-a491-f4d182d94e79",
   "metadata": {},
   "outputs": [],
   "source": [
    "let pi = 3.1415926535897932384626433832795028841971693993751058209749445923078164062"
   ]
  },
  {
   "cell_type": "code",
   "execution_count": 27,
   "id": "67c58249-3d3d-47ef-891f-28ff78cbe5ac",
   "metadata": {},
   "outputs": [],
   "source": [
    "let unit_circle = f32array.create.arrange(0,2*pi,0.25*pi)"
   ]
  },
  {
   "cell_type": "code",
   "execution_count": 28,
   "id": "57971a38-c1b2-4429-95e6-186ee35d0270",
   "metadata": {},
   "outputs": [
    {
     "name": "stdout",
     "output_type": "stream",
     "text": [
      "[ 0.0, ]\n",
      "[ 0.78539818525314331, ]\n",
      "[ 1.5707963705062866, ]\n",
      "[ 2.3561944961547852, ]\n",
      "[ 3.1415927410125732, ]\n",
      "[ 3.9269909858703613, ]\n",
      "[ 4.7123889923095703, ]\n",
      "[ 5.4977874755859375, ]\n",
      "[ 6.2831854820251465, ]\n"
     ]
    }
   ],
   "source": [
    "unit_circle.arr_print()"
   ]
  },
  {
   "cell_type": "markdown",
   "id": "9f488d22-08bb-4fbc-a056-ec50cec8d985",
   "metadata": {},
   "source": [
    "## As well as most of the single input functions from Std.Math"
   ]
  },
  {
   "cell_type": "markdown",
   "id": "a845257f-a554-440a-9454-78660335d80e",
   "metadata": {},
   "source": [
    "All of trig except atan2"
   ]
  },
  {
   "cell_type": "code",
   "execution_count": 29,
   "id": "529afe59-5954-4dcf-9fb9-dfae716c56b1",
   "metadata": {},
   "outputs": [
    {
     "name": "stdout",
     "output_type": "stream",
     "text": [
      "[ 0.0, ]\n",
      "[ 0.70710676908493042, ]\n",
      "[ 1.0, ]\n",
      "[ 0.70710676908493042, ]\n",
      "[ -8.7422776573475858e-08, ]\n",
      "[ -0.70710688829421997, ]\n",
      "[ -1.0, ]\n",
      "[ -0.70710653066635132, ]\n",
      "[ 1.7484555314695172e-07, ]\n"
     ]
    }
   ],
   "source": [
    "(f32array.math.sin(unit_circle)).arr_print()"
   ]
  },
  {
   "cell_type": "markdown",
   "id": "f4872dbb-a2f8-4753-9978-226547f38d30",
   "metadata": {},
   "source": [
    "If you are doing trig you might want to use f64"
   ]
  },
  {
   "cell_type": "code",
   "execution_count": 30,
   "id": "69aa8f94-03d8-454b-89b3-b3f74853e945",
   "metadata": {},
   "outputs": [],
   "source": [
    "let unit_circle64 = f64array.create.arrange(0,2*pi,0.25*pi)"
   ]
  },
  {
   "cell_type": "code",
   "execution_count": 31,
   "id": "31fc5b38-ad14-47ed-992f-2887a49f8012",
   "metadata": {},
   "outputs": [
    {
     "name": "stdout",
     "output_type": "stream",
     "text": [
      "[ 0.0, ]\n",
      "[ 0.70710678118654746, ]\n",
      "[ 1.0, ]\n",
      "[ 0.70710678118654757, ]\n",
      "[ 1.2246467991473532e-16, ]\n",
      "[ -0.70710678118654746, ]\n",
      "[ -1.0, ]\n",
      "[ -0.70710678118654768, ]\n",
      "[ -2.4492935982947064e-16, ]\n"
     ]
    }
   ],
   "source": [
    "(f64array.math.sin(unit_circle64)).arr_print()"
   ]
  },
  {
   "cell_type": "markdown",
   "id": "26bc5949-e318-4bce-9fd2-4878508a9392",
   "metadata": {},
   "source": [
    "Currently working on the is_thing operators such as is_even, intent is to use binary array and be able to apply operations by masking orignal array with the boolean array"
   ]
  },
  {
   "cell_type": "markdown",
   "id": "21f2897b-158f-4e30-998b-73746ecf424d",
   "metadata": {},
   "source": [
    "So far I have only built 2d Arrays, waiting on metaprogramming langauge features for higher dimensions"
   ]
  },
  {
   "cell_type": "code",
   "execution_count": null,
   "id": "f287b8d1-ff86-41cd-b825-959e0719b8b1",
   "metadata": {},
   "outputs": [],
   "source": []
  }
 ],
 "metadata": {
  "kernelspec": {
   "display_name": "Mojo",
   "language": "mojo",
   "name": "mojo-jupyter-kernel"
  },
  "language_info": {
   "codemirror_mode": {
    "name": "mojo"
   },
   "file_extension": ".mojo",
   "mimetype": "text/x-mojo",
   "name": "mojo"
  }
 },
 "nbformat": 4,
 "nbformat_minor": 5
}
